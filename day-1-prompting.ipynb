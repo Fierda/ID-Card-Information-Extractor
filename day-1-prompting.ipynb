{
 "cells": [
  {
   "cell_type": "markdown",
   "id": "d6d53341",
   "metadata": {
    "id": "jkxRSYjzA1oX",
    "papermill": {
     "duration": 0.013798,
     "end_time": "2024-11-12T06:49:05.660960",
     "exception": false,
     "start_time": "2024-11-12T06:49:05.647162",
     "status": "completed"
    },
    "tags": []
   },
   "source": [
    "##### Copyright 2024 Google LLC."
   ]
  },
  {
   "cell_type": "code",
   "execution_count": 1,
   "id": "96cae169",
   "metadata": {
    "cellView": "form",
    "execution": {
     "iopub.execute_input": "2024-11-12T06:49:05.690415Z",
     "iopub.status.busy": "2024-11-12T06:49:05.689542Z",
     "iopub.status.idle": "2024-11-12T06:49:05.694609Z",
     "shell.execute_reply": "2024-11-12T06:49:05.693763Z"
    },
    "id": "5u5OZ2ShA3BA",
    "jupyter": {
     "source_hidden": true
    },
    "papermill": {
     "duration": 0.022635,
     "end_time": "2024-11-12T06:49:05.696672",
     "exception": false,
     "start_time": "2024-11-12T06:49:05.674037",
     "status": "completed"
    },
    "tags": []
   },
   "outputs": [],
   "source": [
    "# @title Licensed under the Apache License, Version 2.0 (the \"License\");\n",
    "# you may not use this file except in compliance with the License.\n",
    "# You may obtain a copy of the License at\n",
    "#\n",
    "# https://www.apache.org/licenses/LICENSE-2.0\n",
    "#\n",
    "# Unless required by applicable law or agreed to in writing, software\n",
    "# distributed under the License is distributed on an \"AS IS\" BASIS,\n",
    "# WITHOUT WARRANTIES OR CONDITIONS OF ANY KIND, either express or implied.\n",
    "# See the License for the specific language governing permissions and\n",
    "# limitations under the License."
   ]
  },
  {
   "cell_type": "markdown",
   "id": "6d94a906",
   "metadata": {
    "id": "csNPnkuCobmG",
    "papermill": {
     "duration": 0.012566,
     "end_time": "2024-11-12T06:49:05.722278",
     "exception": false,
     "start_time": "2024-11-12T06:49:05.709712",
     "status": "completed"
    },
    "tags": []
   },
   "source": [
    "# Day 1 - Prompting\n",
    "\n",
    "Welcome to the Kaggle 5-day Generative AI course!\n",
    "\n",
    "This notebook will show you how to get started with the Gemini API and walk you through some of the example prompts and techniques that you can also read about in the Prompting whitepaper. You don't need to read the whitepaper to use this notebook, but the papers will give you some theoretical context and background to complement this interactive notebook.\n",
    "\n",
    "\n",
    "## Before you begin\n",
    "\n",
    "In this notebook, you'll start exploring prompts and prompt parameters using the Python SDK and AI Studio. For some inspiration, you might enjoy exploring some apps that have been built using the Gemini family of models. Here are a few that we like, and we think you will too.\n",
    "\n",
    "* [TextFX](https://textfx.withgoogle.com/) is a suite of AI-powered tools for rappers, made in collaboration with Lupe Fiasco,\n",
    "* [SQL Talk](https://sql-talk-r5gdynozbq-uc.a.run.app/) shows how you can talk directly to a database using the Gemini API,\n",
    "* [NotebookLM](https://notebooklm.google/) uses Gemini models to build your own personal AI research assistant.\n",
    "\n",
    "\n",
    "## For help\n",
    "\n",
    "**Common issues are covered in the [FAQ and troubleshooting guide](https://www.kaggle.com/code/markishere/day-0-troubleshooting-and-faqs).**\n",
    "\n",
    "### A note on the Gemini API and Vertex AI\n",
    "\n",
    "In the whitepapers, most of the example code uses the Enterprise [Vertex AI platform](https://cloud.google.com/vertex-ai). In contrast, this notebook, along with the others in this series, will use the [Gemini Developer API](https://ai.google.dev/gemini-api/) and [AI Studio](https://aistudio.google.com/).\n",
    "\n",
    "Both APIs provide access to the Gemini family of models, and the code to interact with the models is very similar. Vertex provides a world-class platform for enterprises, governments and advanced users that need powerful features like data governance, ML ops and deep Google Cloud integration.\n",
    "\n",
    "AI Studio is free to use and only requires a compatible Google account to log in and get started. It is deeply integrated with the Gemini API, which comes with a generous [free tier](https://ai.google.dev/pricing) that you can use to run the code in these exercises.\n",
    "\n",
    "If you are already set up with Google Cloud, you can check out the [Enterprise Gemini API](https://cloud.google.com/vertex-ai/generative-ai/docs/model-reference/inference) through Vertex AI, and run the samples directly from the supplied whitepapers."
   ]
  },
  {
   "attachments": {
    "d8299597-f771-4195-ac94-1d6f658ef2bd.png": {
     "image/png": "[encoded data removed]"
    },
    "ed25e346-2e15-4ab0-bc22-503eb1845e66.png": {
     "image/png": "[encoded data removed]"
    }
   },
   "cell_type": "markdown",
   "id": "c5f90646",
   "metadata": {
    "id": "f00ea7c99e44",
    "papermill": {
     "duration": 0.012611,
     "end_time": "2024-11-12T06:49:05.747790",
     "exception": false,
     "start_time": "2024-11-12T06:49:05.735179",
     "status": "completed"
    },
    "tags": []
   },
   "source": [
    "## Get started with Kaggle notebooks\n",
    "\n",
    "If this is your first time using a Kaggle notebook, welcome! You can read about how to use Kaggle notebooks [in the docs](https://www.kaggle.com/docs/notebooks).\n",
    "\n",
    "First, you will need to phone verify your account at kaggle.com/settings.\n",
    "\n",
    "![](https://storage.googleapis.com/kaggle-media/Images/5dgai_0.png)"
   ]
  },
  {
   "cell_type": "markdown",
   "id": "9331f9db",
   "metadata": {
    "papermill": {
     "duration": 0.012625,
     "end_time": "2024-11-12T06:49:05.773256",
     "exception": false,
     "start_time": "2024-11-12T06:49:05.760631",
     "status": "completed"
    },
    "tags": []
   },
   "source": [
    "To run this notebook, as well as the others in this course, you will need to make a copy, or fork, the notebook. Look for the `Copy and Edit` button in the top-right, and **click it** to make an editable, private copy of the notebook. It should look like this one:\n",
    "\n",
    "![Copy and Edit button](https://storage.googleapis.com/kaggle-media/Images/5gdai_sc_1.png)\n",
    "\n",
    "Your copy will now have a ▶️ **Run** button next to each code cell that you can press to execute that cell. These notebooks are expected to be run in order from top-to-bottom, but you are encouraged to add new cells, run your own code and explore. If you get stuck, you can try the `Factory reset` option in the `Run` menu, or head back to the original notebook and make a fresh copy.\n",
    "\n",
    "![Run cell button](https://storage.googleapis.com/kaggle-media/Images/5gdai_sc_2.png)\n",
    "\n",
    "### Problems?\n",
    "\n",
    "If you have any problems, head over to the [Kaggle Discord](https://discord.com/invite/kaggle), find the [`#5dgai-q-and-a` channel](https://discord.com/channels/1101210829807956100/1303438695143178251) and ask for help."
   ]
  },
  {
   "cell_type": "markdown",
   "id": "340999d9",
   "metadata": {
    "id": "ExkOXcPxtTb5",
    "papermill": {
     "duration": 0.012835,
     "end_time": "2024-11-12T06:49:05.798940",
     "exception": false,
     "start_time": "2024-11-12T06:49:05.786105",
     "status": "completed"
    },
    "tags": []
   },
   "source": [
    "## Get started with the Gemini API\n",
    "\n",
    "All of the exercises in this notebook will use the [Gemini API](https://ai.google.dev/gemini-api/) by way of the [Python SDK](https://pypi.org/project/google-generativeai/). Each of these prompts can be accessed directly in [Google AI Studio](https://aistudio.google.com/) too, so if you would rather use a web interface and skip the code for this activity, look for the <img src=\"https://ai.google.dev/site-assets/images/marketing/home/icon-ais.png\" style=\"height: 24px\" height=24/> AI Studio link on each prompt."
   ]
  },
  {
   "cell_type": "markdown",
   "id": "195b3824",
   "metadata": {
    "papermill": {
     "duration": 0.012636,
     "end_time": "2024-11-12T06:49:05.825491",
     "exception": false,
     "start_time": "2024-11-12T06:49:05.812855",
     "status": "completed"
    },
    "tags": []
   },
   "source": [
    "Next, you will need to add your API key to your Kaggle Notebook as a Kaggle User Secret.\n",
    "\n",
    "![](https://storage.googleapis.com/kaggle-media/Images/5dgai_1.png)\n",
    "![](https://storage.googleapis.com/kaggle-media/Images/5dgai_2.png)\n",
    "![](https://storage.googleapis.com/kaggle-media/Images/5dgai_3.png)\n",
    "![](https://storage.googleapis.com/kaggle-media/Images/5dgai_4.png)"
   ]
  },
  {
   "cell_type": "markdown",
   "id": "dbe3cdc8",
   "metadata": {
    "id": "UAjUV3BsvFXQ",
    "papermill": {
     "duration": 0.013114,
     "end_time": "2024-11-12T06:49:05.852046",
     "exception": false,
     "start_time": "2024-11-12T06:49:05.838932",
     "status": "completed"
    },
    "tags": []
   },
   "source": [
    "### Install the SDK"
   ]
  },
  {
   "cell_type": "code",
   "execution_count": 2,
   "id": "1c83fdd0",
   "metadata": {
    "execution": {
     "iopub.execute_input": "2024-11-12T06:49:05.879683Z",
     "iopub.status.busy": "2024-11-12T06:49:05.878915Z",
     "iopub.status.idle": "2024-11-12T06:49:30.322311Z",
     "shell.execute_reply": "2024-11-12T06:49:30.320573Z"
    },
    "id": "NzwzJFU9LqkJ",
    "papermill": {
     "duration": 24.459792,
     "end_time": "2024-11-12T06:49:30.324721",
     "exception": false,
     "start_time": "2024-11-12T06:49:05.864929",
     "status": "completed"
    },
    "tags": []
   },
   "outputs": [
    {
     "name": "stdout",
     "output_type": "stream",
     "text": [
      "Note: you may need to restart the kernel to use updated packages.\n"
     ]
    }
   ],
   "source": [
    "%pip install -U -q \"google-generativeai>=0.8.3\""
   ]
  },
  {
   "cell_type": "code",
   "execution_count": 3,
   "id": "9876848f",
   "metadata": {
    "execution": {
     "iopub.execute_input": "2024-11-12T06:49:30.352871Z",
     "iopub.status.busy": "2024-11-12T06:49:30.352448Z",
     "iopub.status.idle": "2024-11-12T06:49:31.368604Z",
     "shell.execute_reply": "2024-11-12T06:49:31.367517Z"
    },
    "id": "5DwxYIRavMST",
    "papermill": {
     "duration": 1.033193,
     "end_time": "2024-11-12T06:49:31.371025",
     "exception": false,
     "start_time": "2024-11-12T06:49:30.337832",
     "status": "completed"
    },
    "tags": []
   },
   "outputs": [],
   "source": [
    "import google.generativeai as genai\n",
    "from IPython.display import HTML, Markdown, display"
   ]
  },
  {
   "cell_type": "markdown",
   "id": "f356d604",
   "metadata": {
    "id": "DNEt2BCOvOJ1",
    "papermill": {
     "duration": 0.012824,
     "end_time": "2024-11-12T06:49:31.396993",
     "exception": false,
     "start_time": "2024-11-12T06:49:31.384169",
     "status": "completed"
    },
    "tags": []
   },
   "source": [
    "### Set up your API key\n",
    "\n",
    "To run the following cell, your API key must be stored it in a [Kaggle secret](https://www.kaggle.com/discussions/product-feedback/114053) named `GOOGLE_API_KEY`.\n",
    "\n",
    "If you don't already have an API key, you can grab one from [AI Studio](https://aistudio.google.com/app/apikey). You can find [detailed instructions in the docs](https://ai.google.dev/gemini-api/docs/api-key).\n",
    "\n",
    "To make the key available through Kaggle secrets, choose `Secrets` from the `Add-ons` menu and follow the instructions to add your key or enable it for this notebook."
   ]
  },
  {
   "cell_type": "code",
   "execution_count": 4,
   "id": "5acabd58",
   "metadata": {
    "execution": {
     "iopub.execute_input": "2024-11-12T06:49:31.425532Z",
     "iopub.status.busy": "2024-11-12T06:49:31.424285Z",
     "iopub.status.idle": "2024-11-12T06:49:31.534465Z",
     "shell.execute_reply": "2024-11-12T06:49:31.533107Z"
    },
    "id": "SHl0bkPCvayd",
    "papermill": {
     "duration": 0.126955,
     "end_time": "2024-11-12T06:49:31.536906",
     "exception": false,
     "start_time": "2024-11-12T06:49:31.409951",
     "status": "completed"
    },
    "tags": []
   },
   "outputs": [],
   "source": [
    "from kaggle_secrets import UserSecretsClient\n",
    "\n",
    "GOOGLE_API_KEY = UserSecretsClient().get_secret(\"GOOGLE_API_KEY\")\n",
    "genai.configure(api_key=GOOGLE_API_KEY)"
   ]
  },
  {
   "attachments": {
    "d2be9aab-2527-48af-b6cf-1f06cdd7c3a7.png": {
     "image/png": "[encoded data removed]"
    }
   },
   "cell_type": "markdown",
   "id": "552434c1",
   "metadata": {
    "id": "4e720472fd86",
    "papermill": {
     "duration": 0.012619,
     "end_time": "2024-11-12T06:49:31.563158",
     "exception": false,
     "start_time": "2024-11-12T06:49:31.550539",
     "status": "completed"
    },
    "tags": []
   },
   "source": [
    "If you received an error response along the lines of `No user secrets exist for kernel id ...`, then you need to add your API key via `Add-ons`, `Secrets` **and** enable it.\n",
    "\n",
    "![Screenshot of the checkbox to enable GOOGLE_API_KEY secret](https://storage.googleapis.com/kaggle-media/Images/5gdai_sc_3.png)"
   ]
  },
  {
   "cell_type": "markdown",
   "id": "4ff60476",
   "metadata": {
    "id": "H_YXCYIKvyZJ",
    "papermill": {
     "duration": 0.012682,
     "end_time": "2024-11-12T06:49:31.588784",
     "exception": false,
     "start_time": "2024-11-12T06:49:31.576102",
     "status": "completed"
    },
    "tags": []
   },
   "source": [
    "### Run your first prompt\n",
    "\n",
    "In this step, you will test that your API key is set up correctly by making a request. The `gemini-1.5-flash` model has been selected here."
   ]
  },
  {
   "cell_type": "code",
   "execution_count": 5,
   "id": "d733506a",
   "metadata": {
    "execution": {
     "iopub.execute_input": "2024-11-12T06:49:31.616619Z",
     "iopub.status.busy": "2024-11-12T06:49:31.615866Z",
     "iopub.status.idle": "2024-11-12T06:49:33.265681Z",
     "shell.execute_reply": "2024-11-12T06:49:33.264553Z"
    },
    "id": "BV1o0PmcvyJF",
    "papermill": {
     "duration": 1.666285,
     "end_time": "2024-11-12T06:49:33.268083",
     "exception": false,
     "start_time": "2024-11-12T06:49:31.601798",
     "status": "completed"
    },
    "tags": []
   },
   "outputs": [
    {
     "name": "stdout",
     "output_type": "stream",
     "text": [
      "Imagine you have a super smart robot friend. This robot can learn things just like you do, but much, much faster! \n",
      "\n",
      "That's kind of what AI (Artificial Intelligence) is. It's like a computer that can think and learn on its own. It can play games, answer your questions, and even write stories! \n",
      "\n",
      "Here's how it works:\n",
      "\n",
      "* **Learning:** AI learns by being shown lots of examples, just like you learn by watching and listening. \n",
      "* **Thinking:** Once it's learned, AI can use that knowledge to solve problems or make decisions.\n",
      "* **Growing:** AI is always getting better and smarter, just like you do as you grow older!\n",
      "\n",
      "AI is used in lots of cool things, like:\n",
      "\n",
      "* **Smartphones:** Your phone uses AI to help you find things online, translate languages, and take better pictures.\n",
      "* **Games:** AI makes the characters in your favorite games more realistic and fun to play with.\n",
      "* **Self-driving cars:** AI helps cars drive themselves safely and efficiently.\n",
      "\n",
      "AI is still learning and growing, but it's already making a big impact on our world.  Who knows what amazing things it will do in the future! \n",
      "\n"
     ]
    }
   ],
   "source": [
    "flash = genai.GenerativeModel('gemini-1.5-flash')\n",
    "response = flash.generate_content(\"Explain AI to me like I'm a kid.\")\n",
    "print(response.text)"
   ]
  },
  {
   "cell_type": "markdown",
   "id": "0fc8f3fd",
   "metadata": {
    "id": "f60ed9d8ae41",
    "papermill": {
     "duration": 0.012839,
     "end_time": "2024-11-12T06:49:33.294195",
     "exception": false,
     "start_time": "2024-11-12T06:49:33.281356",
     "status": "completed"
    },
    "tags": []
   },
   "source": [
    "The response often comes back in markdown format, which you can render directly in this notebook."
   ]
  },
  {
   "cell_type": "code",
   "execution_count": 6,
   "id": "9ad6c60b",
   "metadata": {
    "execution": {
     "iopub.execute_input": "2024-11-12T06:49:33.322745Z",
     "iopub.status.busy": "2024-11-12T06:49:33.321705Z",
     "iopub.status.idle": "2024-11-12T06:49:33.329709Z",
     "shell.execute_reply": "2024-11-12T06:49:33.328721Z"
    },
    "id": "c933e5e460a5",
    "papermill": {
     "duration": 0.024763,
     "end_time": "2024-11-12T06:49:33.332056",
     "exception": false,
     "start_time": "2024-11-12T06:49:33.307293",
     "status": "completed"
    },
    "tags": []
   },
   "outputs": [
    {
     "data": {
      "text/markdown": [
       "Imagine you have a super smart robot friend. This robot can learn things just like you do, but much, much faster! \n",
       "\n",
       "That's kind of what AI (Artificial Intelligence) is. It's like a computer that can think and learn on its own. It can play games, answer your questions, and even write stories! \n",
       "\n",
       "Here's how it works:\n",
       "\n",
       "* **Learning:** AI learns by being shown lots of examples, just like you learn by watching and listening. \n",
       "* **Thinking:** Once it's learned, AI can use that knowledge to solve problems or make decisions.\n",
       "* **Growing:** AI is always getting better and smarter, just like you do as you grow older!\n",
       "\n",
       "AI is used in lots of cool things, like:\n",
       "\n",
       "* **Smartphones:** Your phone uses AI to help you find things online, translate languages, and take better pictures.\n",
       "* **Games:** AI makes the characters in your favorite games more realistic and fun to play with.\n",
       "* **Self-driving cars:** AI helps cars drive themselves safely and efficiently.\n",
       "\n",
       "AI is still learning and growing, but it's already making a big impact on our world.  Who knows what amazing things it will do in the future! \n"
      ],
      "text/plain": [
       "<IPython.core.display.Markdown object>"
      ]
     },
     "execution_count": 6,
     "metadata": {},
     "output_type": "execute_result"
    }
   ],
   "source": [
    "Markdown(response.text)"
   ]
  },
  {
   "cell_type": "markdown",
   "id": "526f3a70",
   "metadata": {
    "id": "byx0pT9ZMW2Q",
    "papermill": {
     "duration": 0.012956,
     "end_time": "2024-11-12T06:49:33.358406",
     "exception": false,
     "start_time": "2024-11-12T06:49:33.345450",
     "status": "completed"
    },
    "tags": []
   },
   "source": [
    "### Start a chat\n",
    "\n",
    "The previous example uses a single-turn, text-in/text-out structure, but you can also set up a multi-turn chat structure too."
   ]
  },
  {
   "cell_type": "code",
   "execution_count": 7,
   "id": "c71e58ad",
   "metadata": {
    "execution": {
     "iopub.execute_input": "2024-11-12T06:49:33.386599Z",
     "iopub.status.busy": "2024-11-12T06:49:33.386216Z",
     "iopub.status.idle": "2024-11-12T06:49:33.747596Z",
     "shell.execute_reply": "2024-11-12T06:49:33.746306Z"
    },
    "id": "lV_S5ZL5MidD",
    "papermill": {
     "duration": 0.378517,
     "end_time": "2024-11-12T06:49:33.750112",
     "exception": false,
     "start_time": "2024-11-12T06:49:33.371595",
     "status": "completed"
    },
    "tags": []
   },
   "outputs": [
    {
     "name": "stdout",
     "output_type": "stream",
     "text": [
      "Hello Zlork! It's nice to meet you. What can I do for you today? 😊 \n",
      "\n"
     ]
    }
   ],
   "source": [
    "chat = flash.start_chat(history=[])\n",
    "response = chat.send_message('Hello! My name is Zlork.')\n",
    "print(response.text)"
   ]
  },
  {
   "cell_type": "code",
   "execution_count": 8,
   "id": "2190a015",
   "metadata": {
    "execution": {
     "iopub.execute_input": "2024-11-12T06:49:33.779871Z",
     "iopub.status.busy": "2024-11-12T06:49:33.778932Z",
     "iopub.status.idle": "2024-11-12T06:49:34.823022Z",
     "shell.execute_reply": "2024-11-12T06:49:34.821901Z"
    },
    "id": "7b0372c3c64a",
    "papermill": {
     "duration": 1.062163,
     "end_time": "2024-11-12T06:49:34.825997",
     "exception": false,
     "start_time": "2024-11-12T06:49:33.763834",
     "status": "completed"
    },
    "tags": []
   },
   "outputs": [
    {
     "name": "stdout",
     "output_type": "stream",
     "text": [
      "You bet! Dinosaurs are fascinating creatures, and there's so much to learn about them.  Here's something interesting:\n",
      "\n",
      "**Did you know that some dinosaurs had feathers?**\n",
      "\n",
      "While we often picture dinosaurs as scaly beasts, many species, especially those related to birds, had feathers.  These feathers weren't just for show - they helped with insulation, display, and even flight in some cases. \n",
      "\n",
      "**For example, the famous Velociraptor was likely covered in feathers, and even the mighty Tyrannosaurus Rex may have had some feathery patches!**\n",
      "\n",
      "This discovery has revolutionized our understanding of dinosaurs and their connection to birds. \n",
      "\n",
      "What else would you like to know about dinosaurs?  We can explore their different types, their extinction, or even some cool facts about their size and behavior! \n",
      "\n"
     ]
    }
   ],
   "source": [
    "response = chat.send_message('Can you tell something interesting about dinosaurs?')\n",
    "print(response.text)"
   ]
  },
  {
   "cell_type": "code",
   "execution_count": 9,
   "id": "5e1eab66",
   "metadata": {
    "execution": {
     "iopub.execute_input": "2024-11-12T06:49:34.856608Z",
     "iopub.status.busy": "2024-11-12T06:49:34.856206Z",
     "iopub.status.idle": "2024-11-12T06:49:35.233083Z",
     "shell.execute_reply": "2024-11-12T06:49:35.231991Z"
    },
    "id": "d3f9591392a7",
    "papermill": {
     "duration": 0.394449,
     "end_time": "2024-11-12T06:49:35.235302",
     "exception": false,
     "start_time": "2024-11-12T06:49:34.840853",
     "status": "completed"
    },
    "tags": []
   },
   "outputs": [
    {
     "name": "stdout",
     "output_type": "stream",
     "text": [
      "Of course! You're Zlork. 😊  It's nice to chat with you. \n",
      "\n"
     ]
    }
   ],
   "source": [
    "# While you have the `chat` object around, the conversation state\n",
    "# persists. Confirm that by asking if it knows my name.\n",
    "response = chat.send_message('Do you remember what my name is?')\n",
    "print(response.text)"
   ]
  },
  {
   "cell_type": "markdown",
   "id": "ec2aedf1",
   "metadata": {
    "id": "2KAjpr1200sW",
    "papermill": {
     "duration": 0.01353,
     "end_time": "2024-11-12T06:49:35.262888",
     "exception": false,
     "start_time": "2024-11-12T06:49:35.249358",
     "status": "completed"
    },
    "tags": []
   },
   "source": [
    "### Choose a model\n",
    "\n",
    "The Gemini API provides access to a number of models from the Gemini model family. Read about the available models and their capabilities on the [model overview page](https://ai.google.dev/gemini-api/docs/models/gemini).\n",
    "\n",
    "In this step you'll use the API to list all of the available models."
   ]
  },
  {
   "cell_type": "code",
   "execution_count": 10,
   "id": "1d98f52c",
   "metadata": {
    "execution": {
     "iopub.execute_input": "2024-11-12T06:49:35.292583Z",
     "iopub.status.busy": "2024-11-12T06:49:35.291811Z",
     "iopub.status.idle": "2024-11-12T06:49:35.348025Z",
     "shell.execute_reply": "2024-11-12T06:49:35.346606Z"
    },
    "id": "uUUZa2uq2jDm",
    "papermill": {
     "duration": 0.073711,
     "end_time": "2024-11-12T06:49:35.350503",
     "exception": false,
     "start_time": "2024-11-12T06:49:35.276792",
     "status": "completed"
    },
    "tags": []
   },
   "outputs": [
    {
     "name": "stdout",
     "output_type": "stream",
     "text": [
      "models/chat-bison-001\n",
      "models/text-bison-001\n",
      "models/embedding-gecko-001\n",
      "models/gemini-1.0-pro-latest\n",
      "models/gemini-1.0-pro\n",
      "models/gemini-pro\n",
      "models/gemini-1.0-pro-001\n",
      "models/gemini-1.0-pro-vision-latest\n",
      "models/gemini-pro-vision\n",
      "models/gemini-1.5-pro-latest\n",
      "models/gemini-1.5-pro-001\n",
      "models/gemini-1.5-pro-002\n",
      "models/gemini-1.5-pro\n",
      "models/gemini-1.5-pro-exp-0801\n",
      "models/gemini-1.5-pro-exp-0827\n",
      "models/gemini-1.5-flash-latest\n",
      "models/gemini-1.5-flash-001\n",
      "models/gemini-1.5-flash-001-tuning\n",
      "models/gemini-1.5-flash\n",
      "models/gemini-1.5-flash-exp-0827\n",
      "models/gemini-1.5-flash-002\n",
      "models/gemini-1.5-flash-8b\n",
      "models/gemini-1.5-flash-8b-001\n",
      "models/gemini-1.5-flash-8b-latest\n",
      "models/gemini-1.5-flash-8b-exp-0827\n",
      "models/gemini-1.5-flash-8b-exp-0924\n",
      "models/embedding-001\n",
      "models/text-embedding-004\n",
      "models/aqa\n"
     ]
    }
   ],
   "source": [
    "for model in genai.list_models():\n",
    "  print(model.name)"
   ]
  },
  {
   "cell_type": "markdown",
   "id": "df5ab7e6",
   "metadata": {
    "id": "rN49kSI54R1v",
    "papermill": {
     "duration": 0.013847,
     "end_time": "2024-11-12T06:49:35.378553",
     "exception": false,
     "start_time": "2024-11-12T06:49:35.364706",
     "status": "completed"
    },
    "tags": []
   },
   "source": [
    "The [`models.list`](https://ai.google.dev/api/models#method:-models.list) response also returns additional information about the model's capabilities, like the token limits and supported parameters."
   ]
  },
  {
   "cell_type": "code",
   "execution_count": 11,
   "id": "3a5182d9",
   "metadata": {
    "execution": {
     "iopub.execute_input": "2024-11-12T06:49:35.408134Z",
     "iopub.status.busy": "2024-11-12T06:49:35.407734Z",
     "iopub.status.idle": "2024-11-12T06:49:35.453922Z",
     "shell.execute_reply": "2024-11-12T06:49:35.452914Z"
    },
    "id": "k7JJ1K6j4Rl8",
    "papermill": {
     "duration": 0.06379,
     "end_time": "2024-11-12T06:49:35.456258",
     "exception": false,
     "start_time": "2024-11-12T06:49:35.392468",
     "status": "completed"
    },
    "tags": []
   },
   "outputs": [
    {
     "name": "stdout",
     "output_type": "stream",
     "text": [
      "Model(name='models/gemini-1.5-flash',\n",
      "      base_model_id='',\n",
      "      version='001',\n",
      "      display_name='Gemini 1.5 Flash',\n",
      "      description='Fast and versatile multimodal model for scaling across diverse tasks',\n",
      "      input_token_limit=1000000,\n",
      "      output_token_limit=8192,\n",
      "      supported_generation_methods=['generateContent', 'countTokens'],\n",
      "      temperature=1.0,\n",
      "      max_temperature=2.0,\n",
      "      top_p=0.95,\n",
      "      top_k=40)\n"
     ]
    }
   ],
   "source": [
    "for model in genai.list_models():\n",
    "  if model.name == 'models/gemini-1.5-flash':\n",
    "    print(model)\n",
    "    break"
   ]
  },
  {
   "cell_type": "markdown",
   "id": "4e55dbf9",
   "metadata": {
    "id": "5rU_UBlZdooM",
    "papermill": {
     "duration": 0.013689,
     "end_time": "2024-11-12T06:49:35.484061",
     "exception": false,
     "start_time": "2024-11-12T06:49:35.470372",
     "status": "completed"
    },
    "tags": []
   },
   "source": [
    "## Explore generation parameters\n",
    "\n"
   ]
  },
  {
   "cell_type": "markdown",
   "id": "8ae2fcf7",
   "metadata": {
    "id": "G7NfEizeipbW",
    "papermill": {
     "duration": 0.013717,
     "end_time": "2024-11-12T06:49:35.511749",
     "exception": false,
     "start_time": "2024-11-12T06:49:35.498032",
     "status": "completed"
    },
    "tags": []
   },
   "source": [
    "### Output length\n",
    "\n",
    "When generating text with an LLM, the output length affects cost and performance. Generating more tokens increases computation, leading to higher energy consumption, latency, and cost.\n",
    "\n",
    "To stop the model from generating tokens past a limit, you can specify the `max_output_tokens` parameter when using the Gemini API. Specifying this parameter does not influence the generation of the output tokens, so the output will not become more stylistically or textually succinct, but it will stop generating tokens once the specified length is reached. Prompt engineering may be required to generate a more complete output for your given limit."
   ]
  },
  {
   "cell_type": "code",
   "execution_count": 12,
   "id": "b942aeb8",
   "metadata": {
    "execution": {
     "iopub.execute_input": "2024-11-12T06:49:35.541245Z",
     "iopub.status.busy": "2024-11-12T06:49:35.540864Z",
     "iopub.status.idle": "2024-11-12T06:49:36.835450Z",
     "shell.execute_reply": "2024-11-12T06:49:36.834284Z"
    },
    "id": "qVf23JsIi9ma",
    "papermill": {
     "duration": 1.312147,
     "end_time": "2024-11-12T06:49:36.837842",
     "exception": false,
     "start_time": "2024-11-12T06:49:35.525695",
     "status": "completed"
    },
    "tags": []
   },
   "outputs": [
    {
     "name": "stdout",
     "output_type": "stream",
     "text": [
      "## Beyond the Brine: The Enduring Importance of Olives in Modern Society\n",
      "\n",
      "The humble olive, a small, wrinkled fruit, has held a place of profound importance throughout history, transcending its simple appearance to embody a rich tapestry of cultural, economic, and culinary significance.  While its role in ancient societies is well documented, the olive remains a vital commodity in the modern world, impacting diverse facets of life, from nutrition and health to trade and culture. This essay will explore the multifaceted importance of olives in contemporary society, delving into its contributions to both individual well-being and global interconnectedness.\n",
      "\n",
      "**A Culinary Staple and a Nutrient Powerhouse:**\n",
      "\n",
      "Olives are a cornerstone of Mediterranean cuisine, their savory, briny flavor adding depth and complexity to a vast array of dishes. From vibrant salads and hearty stews to flavorful tapenade and mouthwatering pizzas, olives are a versatile ingredient, contributing to the culinary tapestry of the region and beyond. Their versatility extends beyond their use as\n"
     ]
    }
   ],
   "source": [
    "short_model = genai.GenerativeModel(\n",
    "    'gemini-1.5-flash',\n",
    "    generation_config=genai.GenerationConfig(max_output_tokens=200))\n",
    "\n",
    "response = short_model.generate_content('Write a 1000 word essay on the importance of olives in modern society.')\n",
    "print(response.text)"
   ]
  },
  {
   "cell_type": "code",
   "execution_count": 13,
   "id": "5539937e",
   "metadata": {
    "execution": {
     "iopub.execute_input": "2024-11-12T06:49:36.868562Z",
     "iopub.status.busy": "2024-11-12T06:49:36.867761Z",
     "iopub.status.idle": "2024-11-12T06:49:37.820836Z",
     "shell.execute_reply": "2024-11-12T06:49:37.819637Z"
    },
    "id": "W-3kR2F5kdMR",
    "papermill": {
     "duration": 0.971125,
     "end_time": "2024-11-12T06:49:37.823301",
     "exception": false,
     "start_time": "2024-11-12T06:49:36.852176",
     "status": "completed"
    },
    "tags": []
   },
   "outputs": [
    {
     "name": "stdout",
     "output_type": "stream",
     "text": [
      "From ancient groves, a gift so green,\n",
      "A tiny fruit, a kingly sheen.\n",
      "The olive, pressed, a liquid gold,\n",
      "A story told, a taste unfolds.\n",
      "\n",
      "From table spreads to bottles bright,\n",
      "It graces meals, a pure delight.\n",
      "A symbol strong, of peace and grace,\n",
      "In modern times, it holds its place.\n",
      "\n",
      "From vibrant oil to savory brine,\n",
      "It nourishes the soul, divine.\n",
      "A humble fruit, a treasure rare,\n",
      "The olive's worth, beyond compare. \n",
      "\n"
     ]
    }
   ],
   "source": [
    "response = short_model.generate_content('Write a short poem on the importance of olives in modern society.')\n",
    "print(response.text)"
   ]
  },
  {
   "cell_type": "markdown",
   "id": "66413976",
   "metadata": {
    "id": "3ZhDSLB6lqqB",
    "papermill": {
     "duration": 0.013991,
     "end_time": "2024-11-12T06:49:37.851791",
     "exception": false,
     "start_time": "2024-11-12T06:49:37.837800",
     "status": "completed"
    },
    "tags": []
   },
   "source": [
    "Explore with your own prompts. Try a prompt with a restrictive output limit and then adjust the prompt to work within that limit."
   ]
  },
  {
   "cell_type": "markdown",
   "id": "66286547",
   "metadata": {
    "id": "alx-WaAvir_9",
    "papermill": {
     "duration": 0.014057,
     "end_time": "2024-11-12T06:49:37.880235",
     "exception": false,
     "start_time": "2024-11-12T06:49:37.866178",
     "status": "completed"
    },
    "tags": []
   },
   "source": [
    "### Temperature\n",
    "\n",
    "Temperature controls the degree of randomness in token selection. Higher temperatures result in a higher number of candidate tokens from which the next output token is selected, and can produce more diverse results, while lower temperatures have the opposite effect, such that a temperature of 0 results in greedy decoding, selecting the most probable token at each step.\n",
    "\n",
    "Temperature doesn't provide any guarantees of randomness, but it can be used to \"nudge\" the output somewhat."
   ]
  },
  {
   "cell_type": "code",
   "execution_count": 14,
   "id": "3373d524",
   "metadata": {
    "execution": {
     "iopub.execute_input": "2024-11-12T06:49:37.910768Z",
     "iopub.status.busy": "2024-11-12T06:49:37.910077Z",
     "iopub.status.idle": "2024-11-12T06:49:39.249289Z",
     "shell.execute_reply": "2024-11-12T06:49:39.248172Z"
    },
    "id": "SHraGMzqnZqt",
    "papermill": {
     "duration": 1.357325,
     "end_time": "2024-11-12T06:49:39.251856",
     "exception": false,
     "start_time": "2024-11-12T06:49:37.894531",
     "status": "completed"
    },
    "tags": []
   },
   "outputs": [
    {
     "name": "stdout",
     "output_type": "stream",
     "text": [
      "Indigo \n",
      " -------------------------\n",
      "Blue \n",
      " -------------------------\n",
      "Indigo \n",
      " -------------------------\n",
      "Blue \n",
      " -------------------------\n",
      "Teal \n",
      " -------------------------\n"
     ]
    }
   ],
   "source": [
    "from google.api_core import retry\n",
    "\n",
    "high_temp_model = genai.GenerativeModel(\n",
    "    'gemini-1.5-flash',\n",
    "    generation_config=genai.GenerationConfig(temperature=2.0))\n",
    "\n",
    "\n",
    "# When running lots of queries, it's a good practice to use a retry policy so your code\n",
    "# automatically retries when hitting Resource Exhausted (quota limit) errors.\n",
    "retry_policy = {\n",
    "    \"retry\": retry.Retry(predicate=retry.if_transient_error, initial=10, multiplier=1.5, timeout=300)\n",
    "}\n",
    "\n",
    "for _ in range(5):\n",
    "  response = high_temp_model.generate_content('Pick a random colour... (respond in a single word)',\n",
    "                                              request_options=retry_policy)\n",
    "  if response.parts:\n",
    "    print(response.text, '-' * 25)"
   ]
  },
  {
   "cell_type": "markdown",
   "id": "05f21bba",
   "metadata": {
    "id": "z3J4pCTuof7e",
    "papermill": {
     "duration": 0.014544,
     "end_time": "2024-11-12T06:49:39.281098",
     "exception": false,
     "start_time": "2024-11-12T06:49:39.266554",
     "status": "completed"
    },
    "tags": []
   },
   "source": [
    "Now try the same prompt with temperature set to zero. Note that the output is not completely deterministic, as other parameters affect token selection, but the results will tend to be more stable."
   ]
  },
  {
   "cell_type": "code",
   "execution_count": 15,
   "id": "8f26b025",
   "metadata": {
    "execution": {
     "iopub.execute_input": "2024-11-12T06:49:39.312592Z",
     "iopub.status.busy": "2024-11-12T06:49:39.311791Z",
     "iopub.status.idle": "2024-11-12T06:49:40.534884Z",
     "shell.execute_reply": "2024-11-12T06:49:40.533666Z"
    },
    "id": "clymkWv-PfUZ",
    "papermill": {
     "duration": 1.241106,
     "end_time": "2024-11-12T06:49:40.537193",
     "exception": false,
     "start_time": "2024-11-12T06:49:39.296087",
     "status": "completed"
    },
    "tags": []
   },
   "outputs": [
    {
     "name": "stdout",
     "output_type": "stream",
     "text": [
      "Purple \n",
      " -------------------------\n",
      "Purple \n",
      " -------------------------\n",
      "Purple \n",
      " -------------------------\n",
      "Purple \n",
      " -------------------------\n",
      "Purple \n",
      " -------------------------\n"
     ]
    }
   ],
   "source": [
    "low_temp_model = genai.GenerativeModel(\n",
    "    'gemini-1.5-flash',\n",
    "    generation_config=genai.GenerationConfig(temperature=0.0))\n",
    "\n",
    "for _ in range(5):\n",
    "  response = low_temp_model.generate_content('Pick a random colour... (respond in a single word)',\n",
    "                                             request_options=retry_policy)\n",
    "  if response.parts:\n",
    "    print(response.text, '-' * 25)"
   ]
  },
  {
   "cell_type": "markdown",
   "id": "29051ecd",
   "metadata": {
    "id": "St5nt3vzitsZ",
    "papermill": {
     "duration": 0.01479,
     "end_time": "2024-11-12T06:49:40.567092",
     "exception": false,
     "start_time": "2024-11-12T06:49:40.552302",
     "status": "completed"
    },
    "tags": []
   },
   "source": [
    "### Top-K and top-P\n",
    "\n",
    "Like temperature, top-K and top-P parameters are also used to control the diversity of the model's output.\n",
    "\n",
    "Top-K is a positive integer that defines the number of most probable tokens from which to select the output token. A top-K of 1 selects a single token, performing greedy decoding.\n",
    "\n",
    "Top-P defines the probability threshold that, once cumulatively exceeded, tokens stop being selected as candidates. A top-P of 0 is typically equivalent to greedy decoding, and a top-P of 1 typically selects every token in the model's vocabulary.\n",
    "\n",
    "When both are supplied, the Gemini API will filter top-K tokens first, then top-P and then finally sample from the candidate tokens using the supplied temperature.\n",
    "\n",
    "Run this example a number of times, change the settings and observe the change in output."
   ]
  },
  {
   "cell_type": "code",
   "execution_count": 16,
   "id": "e42e20ea",
   "metadata": {
    "execution": {
     "iopub.execute_input": "2024-11-12T06:49:40.598143Z",
     "iopub.status.busy": "2024-11-12T06:49:40.597761Z",
     "iopub.status.idle": "2024-11-12T06:49:43.973078Z",
     "shell.execute_reply": "2024-11-12T06:49:43.972100Z"
    },
    "id": "lPlzpEavUV8F",
    "papermill": {
     "duration": 3.393933,
     "end_time": "2024-11-12T06:49:43.975609",
     "exception": false,
     "start_time": "2024-11-12T06:49:40.581676",
     "status": "completed"
    },
    "tags": []
   },
   "outputs": [
    {
     "name": "stdout",
     "output_type": "stream",
     "text": [
      "Bartholomew, a sleek black cat with eyes like polished amber, was bored. The sunbeams dancing on the living room rug held no allure, the feather toy lay forgotten, and even the enticing scent of tuna in the kitchen couldn't distract him from the overwhelming sense of ennui. He craved adventure.\n",
      "\n",
      "He'd seen it in the flickering light of the television screen, the wild adventures of the feline hero, Whiskers. He longed to leap from rooftops, chase after elusive butterflies, and maybe even battle a villainous dog. But Bartholomew was a house cat, his world confined to the soft carpet and the occasional foray into the garden.\n",
      "\n",
      "One sunny afternoon, as his human, Emily, was busy tending to her flowers, Bartholomew saw his chance. He slipped through the cat flap, a mischievous grin playing on his whiskers. The world was his!\n",
      "\n",
      "The garden, usually a haven of boredom, was suddenly a jungle brimming with possibilities. A fat, juicy bumblebee buzzed past, tempting him with its honeyed scent. He stalked a plump, unsuspecting robin, his tail swishing like a metronome. He even dared to climb the old oak tree, its branches reaching towards the sky like grasping fingers.\n",
      "\n",
      "As he climbed, the world spread out before him, a panorama of houses, gardens, and streets. He felt a thrill surge through him, a sense of liberation. He could see so far, so much! \n",
      "\n",
      "Suddenly, a sharp, piercing cry pierced the air. It came from a small, dusty alleyway, barely visible from the treetop. Bartholomew's curiosity was piqued. He cautiously made his way down, his claws clicking softly on the rough brick. \n",
      "\n",
      "There, huddled in a corner, was a tiny, shivering kitten, its eyes wide with fear. A pack of strays, larger and meaner than Bartholomew, circled around it, their growls menacing.  \n",
      "\n",
      "Bartholomew knew what he had to do. He puffed himself up, his black fur bristling, and let out a fierce hiss. The strays, surprised by the sudden appearance of this brave black cat, hesitated. It was enough. Bartholomew took a leap, landing in front of the kitten, shielding it with his own body.\n",
      "\n",
      "The strays backed off, their tails tucked between their legs. Bartholomew, his heart pounding, knew he had won. He had faced his fear and protected the weak. He felt a surge of pride, a sense of accomplishment.\n",
      "\n",
      "He nudged the kitten, his amber eyes filled with concern. The kitten, its fear fading, nuzzled against him. In that moment, Bartholomew realized that true adventure wasn't about chasing butterflies or battling dogs. It was about facing your fears and doing what was right, even if it meant risking your own safety.  \n",
      "\n",
      "He led the kitten back to his own garden, knowing he had found a new friend and a new purpose. As Emily greeted him with a warm hug, Bartholomew purred with satisfaction. He was a hero, a protector, and most importantly, a cat who had found his true adventure. \n",
      "\n"
     ]
    }
   ],
   "source": [
    "model = genai.GenerativeModel(\n",
    "    'gemini-1.5-flash-001',\n",
    "    generation_config=genai.GenerationConfig(\n",
    "        # These are the default values for gemini-1.5-flash-001.\n",
    "        temperature=1.0,\n",
    "        top_k=64,\n",
    "        top_p=0.95,\n",
    "    ))\n",
    "\n",
    "story_prompt = \"You are a creative writer. Write a short story about a cat who goes on an adventure.\"\n",
    "response = model.generate_content(story_prompt, request_options=retry_policy)\n",
    "print(response.text)"
   ]
  },
  {
   "cell_type": "markdown",
   "id": "c4999452",
   "metadata": {
    "id": "rMrYs1koY6DX",
    "papermill": {
     "duration": 0.014667,
     "end_time": "2024-11-12T06:49:44.005377",
     "exception": false,
     "start_time": "2024-11-12T06:49:43.990710",
     "status": "completed"
    },
    "tags": []
   },
   "source": [
    "## Prompting\n",
    "\n",
    "This section contains some prompts from the chapter for you to try out directly in the API. Try changing the text here to see how each prompt performs with different instructions, more examples, or any other changes you can think of."
   ]
  },
  {
   "cell_type": "markdown",
   "id": "c99624f8",
   "metadata": {
    "id": "hhj_tQidZJP7",
    "papermill": {
     "duration": 0.01461,
     "end_time": "2024-11-12T06:49:44.034925",
     "exception": false,
     "start_time": "2024-11-12T06:49:44.020315",
     "status": "completed"
    },
    "tags": []
   },
   "source": [
    "### Zero-shot\n",
    "\n",
    "Zero-shot prompts are prompts that describe the request for the model directly.\n",
    "\n",
    "<table align=left>\n",
    "  <td>\n",
    "    <a target=\"_blank\" href=\"https://aistudio.google.com/prompts/1gzKKgDHwkAvexG5Up0LMtl1-6jKMKe4g\"><img src=\"https://ai.google.dev/site-assets/images/marketing/home/icon-ais.png\" style=\"height: 24px\" height=24/> Open in AI Studio</a>\n",
    "  </td>\n",
    "</table>"
   ]
  },
  {
   "cell_type": "code",
   "execution_count": 17,
   "id": "010cb679",
   "metadata": {
    "execution": {
     "iopub.execute_input": "2024-11-12T06:49:44.068400Z",
     "iopub.status.busy": "2024-11-12T06:49:44.067468Z",
     "iopub.status.idle": "2024-11-12T06:50:36.311358Z",
     "shell.execute_reply": "2024-11-12T06:50:36.310313Z"
    },
    "id": "1_t-cwnDZzbH",
    "papermill": {
     "duration": 52.27714,
     "end_time": "2024-11-12T06:50:36.328371",
     "exception": false,
     "start_time": "2024-11-12T06:49:44.051231",
     "status": "completed"
    },
    "tags": []
   },
   "outputs": [
    {
     "name": "stdout",
     "output_type": "stream",
     "text": [
      "Sentiment: **POSITIVE**\n"
     ]
    }
   ],
   "source": [
    "model = genai.GenerativeModel(\n",
    "    'gemini-1.5-flash-001',\n",
    "    generation_config=genai.GenerationConfig(\n",
    "        temperature=1,\n",
    "        top_p=1,\n",
    "        max_output_tokens=5,\n",
    "    ))\n",
    "\n",
    "zero_shot_prompt = \"\"\"Classify movie reviews as POSITIVE, NEUTRAL or NEGATIVE.\n",
    "Review: \"Her\" is a disturbing study revealing the direction\n",
    "humanity is headed if AI is allowed to keep evolving,\n",
    "unchecked. I wish there were more movies like this masterpiece.\n",
    "Sentiment: \"\"\"\n",
    "\n",
    "response = model.generate_content(zero_shot_prompt, request_options=retry_policy)\n",
    "print(response.text)"
   ]
  },
  {
   "cell_type": "markdown",
   "id": "84071d53",
   "metadata": {
    "id": "3b5568bdeb11",
    "papermill": {
     "duration": 0.014578,
     "end_time": "2024-11-12T06:50:36.357694",
     "exception": false,
     "start_time": "2024-11-12T06:50:36.343116",
     "status": "completed"
    },
    "tags": []
   },
   "source": [
    "#### Enum mode\n",
    "\n",
    "The models are trained to generate text, and can sometimes produce more text than you may wish for. In the preceding example, the model will output the label, sometimes it can include a preceding \"Sentiment\" label, and without an output token limit, it may also add explanatory text afterwards.\n",
    "\n",
    "The Gemini API has an [Enum mode](https://github.com/google-gemini/cookbook/blob/main/quickstarts/Enum.ipynb) feature that allows you to constrain the output to a fixed set of values."
   ]
  },
  {
   "cell_type": "code",
   "execution_count": 18,
   "id": "60f4149f",
   "metadata": {
    "execution": {
     "iopub.execute_input": "2024-11-12T06:50:36.389524Z",
     "iopub.status.busy": "2024-11-12T06:50:36.388758Z",
     "iopub.status.idle": "2024-11-12T06:50:36.799831Z",
     "shell.execute_reply": "2024-11-12T06:50:36.798840Z"
    },
    "id": "ad118a56c598",
    "papermill": {
     "duration": 0.429621,
     "end_time": "2024-11-12T06:50:36.802226",
     "exception": false,
     "start_time": "2024-11-12T06:50:36.372605",
     "status": "completed"
    },
    "tags": []
   },
   "outputs": [
    {
     "name": "stdout",
     "output_type": "stream",
     "text": [
      "positive\n"
     ]
    }
   ],
   "source": [
    "import enum\n",
    "\n",
    "class Sentiment(enum.Enum):\n",
    "    POSITIVE = \"positive\"\n",
    "    NEUTRAL = \"neutral\"\n",
    "    NEGATIVE = \"negative\"\n",
    "\n",
    "\n",
    "model = genai.GenerativeModel(\n",
    "    'gemini-1.5-flash-001',\n",
    "    generation_config=genai.GenerationConfig(\n",
    "        response_mime_type=\"text/x.enum\",\n",
    "        response_schema=Sentiment\n",
    "    ))\n",
    "\n",
    "response = model.generate_content(zero_shot_prompt, request_options=retry_policy)\n",
    "print(response.text)"
   ]
  },
  {
   "cell_type": "markdown",
   "id": "478d063c",
   "metadata": {
    "id": "0udiSwNbv45W",
    "papermill": {
     "duration": 0.014781,
     "end_time": "2024-11-12T06:50:36.832212",
     "exception": false,
     "start_time": "2024-11-12T06:50:36.817431",
     "status": "completed"
    },
    "tags": []
   },
   "source": [
    "### One-shot and few-shot\n",
    "\n",
    "Providing an example of the expected response is known as a \"one-shot\" prompt. When you provide multiple examples, it is a \"few-shot\" prompt.\n",
    "\n",
    "<table align=left>\n",
    "  <td>\n",
    "    <a target=\"_blank\" href=\"https://aistudio.google.com/prompts/1jjWkjUSoMXmLvMJ7IzADr_GxHPJVV2bg\"><img src=\"https://ai.google.dev/site-assets/images/marketing/home/icon-ais.png\" style=\"height: 24px\" height=24/> Open in AI Studio</a>\n",
    "  </td>\n",
    "</table>\n"
   ]
  },
  {
   "cell_type": "code",
   "execution_count": 19,
   "id": "0e45f43a",
   "metadata": {
    "execution": {
     "iopub.execute_input": "2024-11-12T06:50:36.864054Z",
     "iopub.status.busy": "2024-11-12T06:50:36.863622Z",
     "iopub.status.idle": "2024-11-12T06:50:37.238433Z",
     "shell.execute_reply": "2024-11-12T06:50:37.237340Z"
    },
    "id": "hd4mVUukwOKZ",
    "papermill": {
     "duration": 0.394107,
     "end_time": "2024-11-12T06:50:37.241344",
     "exception": false,
     "start_time": "2024-11-12T06:50:36.847237",
     "status": "completed"
    },
    "tags": []
   },
   "outputs": [
    {
     "name": "stdout",
     "output_type": "stream",
     "text": [
      "```json\n",
      "{\n",
      "\"size\": \"large\",\n",
      "\"type\": \"normal\",\n",
      "\"ingredients\": [\"cheese\", \"pineapple\"]\n",
      "}\n",
      "``` \n",
      "\n"
     ]
    }
   ],
   "source": [
    "model = genai.GenerativeModel(\n",
    "    'gemini-1.5-flash-latest',\n",
    "    generation_config=genai.GenerationConfig(\n",
    "        temperature=0.1,\n",
    "        top_p=1,\n",
    "        max_output_tokens=250,\n",
    "    ))\n",
    "\n",
    "few_shot_prompt = \"\"\"Parse a customer's pizza order into valid JSON:\n",
    "\n",
    "EXAMPLE:\n",
    "I want a small pizza with cheese, tomato sauce, and pepperoni.\n",
    "JSON Response:\n",
    "```\n",
    "{\n",
    "\"size\": \"small\",\n",
    "\"type\": \"normal\",\n",
    "\"ingredients\": [\"cheese\", \"tomato sauce\", \"peperoni\"]\n",
    "}\n",
    "```\n",
    "\n",
    "EXAMPLE:\n",
    "Can I get a large pizza with tomato sauce, basil and mozzarella\n",
    "JSON Response:\n",
    "```\n",
    "{\n",
    "\"size\": \"large\",\n",
    "\"type\": \"normal\",\n",
    "\"ingredients\": [\"tomato sauce\", \"basil\", \"mozzarella\"]\n",
    "}\n",
    "\n",
    "ORDER:\n",
    "\"\"\"\n",
    "\n",
    "customer_order = \"Give me a large with cheese & pineapple\"\n",
    "\n",
    "\n",
    "response = model.generate_content([few_shot_prompt, customer_order], request_options=retry_policy)\n",
    "print(response.text)"
   ]
  },
  {
   "cell_type": "markdown",
   "id": "65b99d4d",
   "metadata": {
    "id": "021293096f08",
    "papermill": {
     "duration": 0.015027,
     "end_time": "2024-11-12T06:50:37.271797",
     "exception": false,
     "start_time": "2024-11-12T06:50:37.256770",
     "status": "completed"
    },
    "tags": []
   },
   "source": [
    "#### JSON mode\n",
    "\n",
    "To provide control over the schema, and to ensure that you only receive JSON (with no other text or markdown), you can use the Gemini API's [JSON mode](https://github.com/google-gemini/cookbook/blob/main/quickstarts/JSON_mode.ipynb). This forces the model to constrain decoding, such that token selection is guided by the supplied schema."
   ]
  },
  {
   "cell_type": "code",
   "execution_count": 20,
   "id": "36e4e1d0",
   "metadata": {
    "execution": {
     "iopub.execute_input": "2024-11-12T06:50:37.303901Z",
     "iopub.status.busy": "2024-11-12T06:50:37.303478Z",
     "iopub.status.idle": "2024-11-12T06:50:37.669178Z",
     "shell.execute_reply": "2024-11-12T06:50:37.668124Z"
    },
    "id": "50fbf0260912",
    "papermill": {
     "duration": 0.384553,
     "end_time": "2024-11-12T06:50:37.671531",
     "exception": false,
     "start_time": "2024-11-12T06:50:37.286978",
     "status": "completed"
    },
    "tags": []
   },
   "outputs": [
    {
     "name": "stdout",
     "output_type": "stream",
     "text": [
      "{\"ingredients\": [\"apple\", \"chocolate\"], \"size\": \"large\", \"type\": \"dessert\"}\n",
      "\n"
     ]
    }
   ],
   "source": [
    "import typing_extensions as typing\n",
    "\n",
    "class PizzaOrder(typing.TypedDict):\n",
    "    size: str\n",
    "    ingredients: list[str]\n",
    "    type: str\n",
    "\n",
    "\n",
    "model = genai.GenerativeModel(\n",
    "    'gemini-1.5-flash-latest',\n",
    "    generation_config=genai.GenerationConfig(\n",
    "        temperature=0.1,\n",
    "        response_mime_type=\"application/json\",\n",
    "        response_schema=PizzaOrder,\n",
    "    ))\n",
    "\n",
    "response = model.generate_content(\"Can I have a large dessert pizza with apple and chocolate\")\n",
    "print(response.text)"
   ]
  },
  {
   "cell_type": "markdown",
   "id": "a4c60fe9",
   "metadata": {
    "id": "4a93e338e57c",
    "papermill": {
     "duration": 0.01501,
     "end_time": "2024-11-12T06:50:37.701978",
     "exception": false,
     "start_time": "2024-11-12T06:50:37.686968",
     "status": "completed"
    },
    "tags": []
   },
   "source": [
    "### Chain of Thought (CoT)\n",
    "\n",
    "Direct prompting on LLMs can return answers quickly and (in terms of output token usage) efficiently, but they can be prone to hallucination. The answer may \"look\" correct (in terms of language and syntax) but is incorrect in terms of factuality and reasoning.\n",
    "\n",
    "Chain-of-Thought prompting is a technique where you instruct the model to output intermediate reasoning steps, and it typically gets better results, especially when combined with few-shot examples. It is worth noting that this technique doesn't completely eliminate hallucinations, and that it tends to cost more to run, due to the increased token count.\n",
    "\n",
    "As models like the Gemini family are trained to be \"chatty\" and provide reasoning steps, you can ask the model to be more direct in the prompt."
   ]
  },
  {
   "cell_type": "code",
   "execution_count": 21,
   "id": "e18e0389",
   "metadata": {
    "execution": {
     "iopub.execute_input": "2024-11-12T06:50:37.734374Z",
     "iopub.status.busy": "2024-11-12T06:50:37.733975Z",
     "iopub.status.idle": "2024-11-12T06:50:38.042338Z",
     "shell.execute_reply": "2024-11-12T06:50:38.041218Z"
    },
    "id": "5715555db1c1",
    "papermill": {
     "duration": 0.327207,
     "end_time": "2024-11-12T06:50:38.044636",
     "exception": false,
     "start_time": "2024-11-12T06:50:37.717429",
     "status": "completed"
    },
    "tags": []
   },
   "outputs": [
    {
     "name": "stdout",
     "output_type": "stream",
     "text": [
      "39 \n",
      "\n"
     ]
    }
   ],
   "source": [
    "prompt = \"\"\"When I was 4 years old, my partner was 3 times my age. Now, I\n",
    "am 20 years old. How old is my partner? Return the answer immediately.\"\"\"\n",
    "\n",
    "model = genai.GenerativeModel('gemini-1.5-flash-latest')\n",
    "response = model.generate_content(prompt, request_options=retry_policy)\n",
    "\n",
    "print(response.text)"
   ]
  },
  {
   "cell_type": "markdown",
   "id": "33586d06",
   "metadata": {
    "id": "e12b19677bfd",
    "papermill": {
     "duration": 0.015025,
     "end_time": "2024-11-12T06:50:38.075199",
     "exception": false,
     "start_time": "2024-11-12T06:50:38.060174",
     "status": "completed"
    },
    "tags": []
   },
   "source": [
    "Now try the same approach, but indicate to the model that it should \"think step by step\"."
   ]
  },
  {
   "cell_type": "code",
   "execution_count": 22,
   "id": "e91d0250",
   "metadata": {
    "execution": {
     "iopub.execute_input": "2024-11-12T06:50:38.107948Z",
     "iopub.status.busy": "2024-11-12T06:50:38.107536Z",
     "iopub.status.idle": "2024-11-12T06:50:38.712135Z",
     "shell.execute_reply": "2024-11-12T06:50:38.710905Z"
    },
    "id": "ffd7536a481f",
    "papermill": {
     "duration": 0.623406,
     "end_time": "2024-11-12T06:50:38.714435",
     "exception": false,
     "start_time": "2024-11-12T06:50:38.091029",
     "status": "completed"
    },
    "tags": []
   },
   "outputs": [
    {
     "name": "stdout",
     "output_type": "stream",
     "text": [
      "Here's how to solve this:\n",
      "\n",
      "* **When you were 4:** Your partner was 3 times your age, which is 4 * 3 = 12 years old.\n",
      "* **Age difference:**  Your partner is 12 - 4 = 8 years older than you.\n",
      "* **Current age:** Since you are now 20, your partner is 20 + 8 = **28 years old**. \n",
      "\n"
     ]
    }
   ],
   "source": [
    "prompt = \"\"\"When I was 4 years old, my partner was 3 times my age. Now,\n",
    "I am 20 years old. How old is my partner? Let's think step by step.\"\"\"\n",
    "\n",
    "response = model.generate_content(prompt, request_options=retry_policy)\n",
    "print(response.text)"
   ]
  },
  {
   "cell_type": "markdown",
   "id": "879388eb",
   "metadata": {
    "id": "oiLgBQJj0V53",
    "papermill": {
     "duration": 0.015092,
     "end_time": "2024-11-12T06:50:38.745187",
     "exception": false,
     "start_time": "2024-11-12T06:50:38.730095",
     "status": "completed"
    },
    "tags": []
   },
   "source": [
    "### ReAct: Reason and act\n",
    "\n",
    "In this example you will run a ReAct prompt directly in the Gemini API and perform the searching steps yourself. As this prompt follows a well-defined structure, there are frameworks available that wrap the prompt into easier-to-use APIs that make tool calls automatically, such as the LangChain example from the chapter.\n",
    "\n",
    "To try this out with the Wikipedia search engine, check out the [Searching Wikipedia with ReAct](https://github.com/google-gemini/cookbook/blob/main/examples/Search_Wikipedia_using_ReAct.ipynb) cookbook example.\n",
    "\n",
    "\n",
    "> Note: The prompt and in-context examples used here are from [https://github.com/ysymyth/ReAct](https://github.com/ysymyth/ReAct) which is published under a [MIT license](https://opensource.org/licenses/MIT), Copyright (c) 2023 Shunyu Yao.\n",
    "\n",
    "<table align=left>\n",
    "  <td>\n",
    "    <a target=\"_blank\" href=\"https://aistudio.google.com/prompts/18oo63Lwosd-bQ6Ay51uGogB3Wk3H8XMO\"><img src=\"https://ai.google.dev/site-assets/images/marketing/home/icon-ais.png\" style=\"height: 24px\" height=24/> Open in AI Studio</a>\n",
    "  </td>\n",
    "</table>\n"
   ]
  },
  {
   "cell_type": "code",
   "execution_count": 23,
   "id": "339064ed",
   "metadata": {
    "execution": {
     "iopub.execute_input": "2024-11-12T06:50:38.778048Z",
     "iopub.status.busy": "2024-11-12T06:50:38.777575Z",
     "iopub.status.idle": "2024-11-12T06:50:38.784565Z",
     "shell.execute_reply": "2024-11-12T06:50:38.783521Z"
    },
    "id": "cBgyNJ5z0VSs",
    "papermill": {
     "duration": 0.026108,
     "end_time": "2024-11-12T06:50:38.786728",
     "exception": false,
     "start_time": "2024-11-12T06:50:38.760620",
     "status": "completed"
    },
    "tags": []
   },
   "outputs": [],
   "source": [
    "model_instructions = \"\"\"\n",
    "Solve a question answering task with interleaving Thought, Action, Observation steps. Thought can reason about the current situation,\n",
    "Observation is understanding relevant information from an Action's output and Action can be one of three types:\n",
    " (1) <search>entity</search>, which searches the exact entity on Wikipedia and returns the first paragraph if it exists. If not, it\n",
    "     will return some similar entities to search and you can try to search the information from those topics.\n",
    " (2) <lookup>keyword</lookup>, which returns the next sentence containing keyword in the current context. This only does exact matches,\n",
    "     so keep your searches short.\n",
    " (3) <finish>answer</finish>, which returns the answer and finishes the task.\n",
    "\"\"\"\n",
    "\n",
    "example1 = \"\"\"Question\n",
    "Musician and satirist Allie Goertz wrote a song about the \"The Simpsons\" character Milhouse, who Matt Groening named after who?\n",
    "\n",
    "Thought 1\n",
    "The question simplifies to \"The Simpsons\" character Milhouse is named after who. I only need to search Milhouse and find who it is named after.\n",
    "\n",
    "Action 1\n",
    "<search>Milhouse</search>\n",
    "\n",
    "Observation 1\n",
    "Milhouse Mussolini Van Houten is a recurring character in the Fox animated television series The Simpsons voiced by Pamela Hayden and created by Matt Groening.\n",
    "\n",
    "Thought 2\n",
    "The paragraph does not tell who Milhouse is named after, maybe I can look up \"named after\".\n",
    "\n",
    "Action 2\n",
    "<lookup>named after</lookup>\n",
    "\n",
    "Observation 2\n",
    "Milhouse was named after U.S. president Richard Nixon, whose middle name was Milhous.\n",
    "\n",
    "Thought 3\n",
    "Milhouse was named after U.S. president Richard Nixon, so the answer is Richard Nixon.\n",
    "\n",
    "Action 3\n",
    "<finish>Richard Nixon</finish>\n",
    "\"\"\"\n",
    "\n",
    "example2 = \"\"\"Question\n",
    "What is the elevation range for the area that the eastern sector of the Colorado orogeny extends into?\n",
    "\n",
    "Thought 1\n",
    "I need to search Colorado orogeny, find the area that the eastern sector of the Colorado orogeny extends into, then find the elevation range of the area.\n",
    "\n",
    "Action 1\n",
    "<search>Colorado orogeny</search>\n",
    "\n",
    "Observation 1\n",
    "The Colorado orogeny was an episode of mountain building (an orogeny) in Colorado and surrounding areas.\n",
    "\n",
    "Thought 2\n",
    "It does not mention the eastern sector. So I need to look up eastern sector.\n",
    "\n",
    "Action 2\n",
    "<lookup>eastern sector</lookup>\n",
    "\n",
    "Observation 2\n",
    "The eastern sector extends into the High Plains and is called the Central Plains orogeny.\n",
    "\n",
    "Thought 3\n",
    "The eastern sector of Colorado orogeny extends into the High Plains. So I need to search High Plains and find its elevation range.\n",
    "\n",
    "Action 3\n",
    "<search>High Plains</search>\n",
    "\n",
    "Observation 3\n",
    "High Plains refers to one of two distinct land regions\n",
    "\n",
    "Thought 4\n",
    "I need to instead search High Plains (United States).\n",
    "\n",
    "Action 4\n",
    "<search>High Plains (United States)</search>\n",
    "\n",
    "Observation 4\n",
    "The High Plains are a subregion of the Great Plains. From east to west, the High Plains rise in elevation from around 1,800 to 7,000 ft (550 to 2,130m).\n",
    "\n",
    "Thought 5\n",
    "High Plains rise in elevation from around 1,800 to 7,000 ft, so the answer is 1,800 to 7,000 ft.\n",
    "\n",
    "Action 5\n",
    "<finish>1,800 to 7,000 ft</finish>\n",
    "\"\"\"\n",
    "\n",
    "# Come up with more examples yourself, or take a look through https://github.com/ysymyth/ReAct/"
   ]
  },
  {
   "cell_type": "markdown",
   "id": "032d4613",
   "metadata": {
    "id": "C3wbfstjTgey",
    "papermill": {
     "duration": 0.015064,
     "end_time": "2024-11-12T06:50:38.817295",
     "exception": false,
     "start_time": "2024-11-12T06:50:38.802231",
     "status": "completed"
    },
    "tags": []
   },
   "source": [
    "To capture a single step at a time, while ignoring any hallucinated Observation steps, you will use `stop_sequences` to end the generation process. The steps are `Thought`, `Action`, `Observation`, in that order."
   ]
  },
  {
   "cell_type": "code",
   "execution_count": 24,
   "id": "6ac65ff9",
   "metadata": {
    "execution": {
     "iopub.execute_input": "2024-11-12T06:50:38.849831Z",
     "iopub.status.busy": "2024-11-12T06:50:38.849124Z",
     "iopub.status.idle": "2024-11-12T06:50:40.172178Z",
     "shell.execute_reply": "2024-11-12T06:50:40.170849Z"
    },
    "id": "8mxrXRkRTdXm",
    "papermill": {
     "duration": 1.341782,
     "end_time": "2024-11-12T06:50:40.174384",
     "exception": false,
     "start_time": "2024-11-12T06:50:38.832602",
     "status": "completed"
    },
    "tags": []
   },
   "outputs": [
    {
     "name": "stdout",
     "output_type": "stream",
     "text": [
      "Thought 1\n",
      "I need to find the Transformers NLP paper and find the youngest author listed.\n",
      "\n",
      "Action 1\n",
      "<search>Transformers NLP paper</search>\n",
      "\n"
     ]
    }
   ],
   "source": [
    "question = \"\"\"Question\n",
    "Who was the youngest author listed on the transformers NLP paper?\n",
    "\"\"\"\n",
    "\n",
    "model = genai.GenerativeModel('gemini-1.5-flash-latest')\n",
    "react_chat = model.start_chat()\n",
    "\n",
    "# You will perform the Action, so generate up to, but not including, the Observation.\n",
    "config = genai.GenerationConfig(stop_sequences=[\"\\nObservation\"])\n",
    "\n",
    "resp = react_chat.send_message(\n",
    "    [model_instructions, example1, example2, question],\n",
    "    generation_config=config,\n",
    "    request_options=retry_policy)\n",
    "print(resp.text)"
   ]
  },
  {
   "cell_type": "markdown",
   "id": "53b47f10",
   "metadata": {
    "id": "aW2PIdLbVv3l",
    "papermill": {
     "duration": 0.014994,
     "end_time": "2024-11-12T06:50:40.204744",
     "exception": false,
     "start_time": "2024-11-12T06:50:40.189750",
     "status": "completed"
    },
    "tags": []
   },
   "source": [
    "Now you can perform this research yourself and supply it back to the model."
   ]
  },
  {
   "cell_type": "code",
   "execution_count": 25,
   "id": "49e8741c",
   "metadata": {
    "execution": {
     "iopub.execute_input": "2024-11-12T06:50:40.237629Z",
     "iopub.status.busy": "2024-11-12T06:50:40.236974Z",
     "iopub.status.idle": "2024-11-12T06:50:40.755023Z",
     "shell.execute_reply": "2024-11-12T06:50:40.753983Z"
    },
    "id": "mLMc0DZaV9g2",
    "papermill": {
     "duration": 0.537223,
     "end_time": "2024-11-12T06:50:40.757378",
     "exception": false,
     "start_time": "2024-11-12T06:50:40.220155",
     "status": "completed"
    },
    "tags": []
   },
   "outputs": [
    {
     "name": "stdout",
     "output_type": "stream",
     "text": [
      "Thought 2\n",
      "The observation lists all authors. I need to find the youngest. Since I don't have any info about the authors' ages, I need to find a way to figure out which author is the youngest.\n",
      "\n",
      "Action 2\n",
      "<search>Ashish Vaswani age</search> \n",
      "\n"
     ]
    }
   ],
   "source": [
    "observation = \"\"\"Observation 1\n",
    "[1706.03762] Attention Is All You Need\n",
    "Ashish Vaswani, Noam Shazeer, Niki Parmar, Jakob Uszkoreit, Llion Jones, Aidan N. Gomez, Lukasz Kaiser, Illia Polosukhin\n",
    "We propose a new simple network architecture, the Transformer, based solely on attention mechanisms, dispensing with recurrence and convolutions entirely.\n",
    "\"\"\"\n",
    "resp = react_chat.send_message(observation, generation_config=config, request_options=retry_policy)\n",
    "print(resp.text)"
   ]
  },
  {
   "cell_type": "markdown",
   "id": "6f2a23af",
   "metadata": {
    "id": "bo0tzf4nX6dA",
    "papermill": {
     "duration": 0.015076,
     "end_time": "2024-11-12T06:50:40.787907",
     "exception": false,
     "start_time": "2024-11-12T06:50:40.772831",
     "status": "completed"
    },
    "tags": []
   },
   "source": [
    "This process repeats until the `<finish>` action is reached. You can continue running this yourself if you like, or try the [Wikipedia example](https://github.com/google-gemini/cookbook/blob/main/examples/Search_Wikipedia_using_ReAct.ipynb) to see a fully automated ReAct system at work."
   ]
  },
  {
   "cell_type": "markdown",
   "id": "658f90a4",
   "metadata": {
    "id": "jPiZ_eIIaVPt",
    "papermill": {
     "duration": 0.015141,
     "end_time": "2024-11-12T06:50:40.818259",
     "exception": false,
     "start_time": "2024-11-12T06:50:40.803118",
     "status": "completed"
    },
    "tags": []
   },
   "source": [
    "## Code prompting"
   ]
  },
  {
   "cell_type": "markdown",
   "id": "3972195d",
   "metadata": {
    "id": "ZinKamwXeR6C",
    "papermill": {
     "duration": 0.015114,
     "end_time": "2024-11-12T06:50:40.848832",
     "exception": false,
     "start_time": "2024-11-12T06:50:40.833718",
     "status": "completed"
    },
    "tags": []
   },
   "source": [
    "### Generating code\n",
    "\n",
    "The Gemini family of models can be used to generate code, configuration and scripts. Generating code can be helpful when learning to code, learning a new language or for rapidly generating a first draft.\n",
    "\n",
    "It's important to be aware that since LLMs can't reason, and can repeat training data, it's essential to read and test your code first, and comply with any relevant licenses.\n",
    "\n",
    "<table align=left>\n",
    "  <td>\n",
    "    <a target=\"_blank\" href=\"https://aistudio.google.com/prompts/1YX71JGtzDjXQkgdes8bP6i3oH5lCRKxv\"><img src=\"https://ai.google.dev/site-assets/images/marketing/home/icon-ais.png\" style=\"height: 24px\" height=24/> Open in AI Studio</a>\n",
    "  </td>\n",
    "</table>"
   ]
  },
  {
   "cell_type": "code",
   "execution_count": 26,
   "id": "05978139",
   "metadata": {
    "execution": {
     "iopub.execute_input": "2024-11-12T06:50:40.881722Z",
     "iopub.status.busy": "2024-11-12T06:50:40.880909Z",
     "iopub.status.idle": "2024-11-12T06:50:41.211543Z",
     "shell.execute_reply": "2024-11-12T06:50:41.210511Z"
    },
    "id": "fOQP9pqmeUO1",
    "papermill": {
     "duration": 0.349675,
     "end_time": "2024-11-12T06:50:41.213856",
     "exception": false,
     "start_time": "2024-11-12T06:50:40.864181",
     "status": "completed"
    },
    "tags": []
   },
   "outputs": [
    {
     "data": {
      "text/markdown": [
       "```python\n",
       "def factorial(n):\n",
       "  if n == 0:\n",
       "    return 1\n",
       "  else:\n",
       "    return n * factorial(n-1)\n",
       "```"
      ],
      "text/plain": [
       "<IPython.core.display.Markdown object>"
      ]
     },
     "execution_count": 26,
     "metadata": {},
     "output_type": "execute_result"
    }
   ],
   "source": [
    "model = genai.GenerativeModel(\n",
    "    'gemini-1.5-flash-latest',\n",
    "    generation_config=genai.GenerationConfig(\n",
    "        temperature=1,\n",
    "        top_p=1,\n",
    "        max_output_tokens=1024,\n",
    "    ))\n",
    "\n",
    "# Gemini 1.5 models are very chatty, so it helps to specify they stick to the code.\n",
    "code_prompt = \"\"\"\n",
    "Write a Python function to calculate the factorial of a number. No explanation, provide only the code.\n",
    "\"\"\"\n",
    "\n",
    "response = model.generate_content(code_prompt, request_options=retry_policy)\n",
    "Markdown(response.text)"
   ]
  },
  {
   "cell_type": "markdown",
   "id": "77a4bd4a",
   "metadata": {
    "id": "wlBMWSFhgVRQ",
    "papermill": {
     "duration": 0.015317,
     "end_time": "2024-11-12T06:50:41.244823",
     "exception": false,
     "start_time": "2024-11-12T06:50:41.229506",
     "status": "completed"
    },
    "tags": []
   },
   "source": [
    "### Code execution\n",
    "\n",
    "The Gemini API can automatically run generated code too, and will return the output.\n",
    "\n",
    "<table align=left>\n",
    "  <td>\n",
    "    <a target=\"_blank\" href=\"https://aistudio.google.com/prompts/11veFr_VYEwBWcLkhNLr-maCG0G8sS_7Z\"><img src=\"https://ai.google.dev/site-assets/images/marketing/home/icon-ais.png\" style=\"height: 24px\" height=24/> Open in AI Studio</a>\n",
    "  </td>\n",
    "</table>"
   ]
  },
  {
   "cell_type": "code",
   "execution_count": 27,
   "id": "057cf901",
   "metadata": {
    "execution": {
     "iopub.execute_input": "2024-11-12T06:50:41.279453Z",
     "iopub.status.busy": "2024-11-12T06:50:41.278542Z",
     "iopub.status.idle": "2024-11-12T06:50:42.156162Z",
     "shell.execute_reply": "2024-11-12T06:50:42.155089Z"
    },
    "id": "jT3OfWYfhjRL",
    "papermill": {
     "duration": 0.896536,
     "end_time": "2024-11-12T06:50:42.158457",
     "exception": false,
     "start_time": "2024-11-12T06:50:41.261921",
     "status": "completed"
    },
    "tags": []
   },
   "outputs": [
    {
     "data": {
      "text/markdown": [
       "I will calculate the sum of the first 14 odd prime numbers. \n",
       "\n",
       "Here's how I'll do it:\n",
       "\n",
       "1. **Identify the first 14 odd primes:** 2, 3, 5, 7, 11, 13, 17, 19, 23, 29, 31, 37, 41, 43.\n",
       "2. **Sum the identified primes:** 2 + 3 + 5 + 7 + 11 + 13 + 17 + 19 + 23 + 29 + 31 + 37 + 41 + 43 = 280\n",
       "\n",
       "Therefore, the sum of the first 14 odd prime numbers is **280**. \n"
      ],
      "text/plain": [
       "<IPython.core.display.Markdown object>"
      ]
     },
     "execution_count": 27,
     "metadata": {},
     "output_type": "execute_result"
    }
   ],
   "source": [
    "model = genai.GenerativeModel(\n",
    "    'gemini-1.5-flash-latest',\n",
    "    tools='code_execution',)\n",
    "\n",
    "code_exec_prompt = \"\"\"\n",
    "Calculate the sum of the first 14 prime numbers. Only consider the odd primes, and make sure you count them all.\n",
    "\"\"\"\n",
    "\n",
    "response = model.generate_content(code_exec_prompt, request_options=retry_policy)\n",
    "Markdown(response.text)"
   ]
  },
  {
   "cell_type": "markdown",
   "id": "cde667b1",
   "metadata": {
    "id": "ZspT1GSkjG6d",
    "papermill": {
     "duration": 0.016086,
     "end_time": "2024-11-12T06:50:42.191019",
     "exception": false,
     "start_time": "2024-11-12T06:50:42.174933",
     "status": "completed"
    },
    "tags": []
   },
   "source": [
    "While this looks like a single-part response, you can inspect the response to see the each of the steps: initial text, code generation, execution results, and final text summary."
   ]
  },
  {
   "cell_type": "code",
   "execution_count": 28,
   "id": "70a2ff0c",
   "metadata": {
    "execution": {
     "iopub.execute_input": "2024-11-12T06:50:42.224362Z",
     "iopub.status.busy": "2024-11-12T06:50:42.223699Z",
     "iopub.status.idle": "2024-11-12T06:50:42.229388Z",
     "shell.execute_reply": "2024-11-12T06:50:42.228455Z"
    },
    "id": "j4gQVzcRjRX-",
    "papermill": {
     "duration": 0.025112,
     "end_time": "2024-11-12T06:50:42.231878",
     "exception": false,
     "start_time": "2024-11-12T06:50:42.206766",
     "status": "completed"
    },
    "tags": []
   },
   "outputs": [
    {
     "name": "stdout",
     "output_type": "stream",
     "text": [
      "text: \"I will calculate the sum of the first 14 odd prime numbers. \\n\\nHere\\'s how I\\'ll do it:\\n\\n1. **Identify the first 14 odd primes:** 2, 3, 5, 7, 11, 13, 17, 19, 23, 29, 31, 37, 41, 43.\\n2. **Sum the identified primes:** 2 + 3 + 5 + 7 + 11 + 13 + 17 + 19 + 23 + 29 + 31 + 37 + 41 + 43 = 280\\n\\nTherefore, the sum of the first 14 odd prime numbers is **280**. \\n\"\n",
      "\n",
      "-----\n"
     ]
    }
   ],
   "source": [
    "for part in response.candidates[0].content.parts:\n",
    "  print(part)\n",
    "  print(\"-----\")"
   ]
  },
  {
   "cell_type": "markdown",
   "id": "3492aefc",
   "metadata": {
    "id": "1gUX8QzCj4d5",
    "papermill": {
     "duration": 0.01658,
     "end_time": "2024-11-12T06:50:42.264588",
     "exception": false,
     "start_time": "2024-11-12T06:50:42.248008",
     "status": "completed"
    },
    "tags": []
   },
   "source": [
    "### Explaining code\n",
    "\n",
    "The Gemini family of models can explain code to you too.\n",
    "\n",
    "<table align=left>\n",
    "  <td>\n",
    "    <a target=\"_blank\" href=\"https://aistudio.google.com/prompts/1N7LGzWzCYieyOf_7bAG4plrmkpDNmUyb\"><img src=\"https://ai.google.dev/site-assets/images/marketing/home/icon-ais.png\" style=\"height: 24px\" height=24/> Open in AI Studio</a>\n",
    "  </td>\n",
    "</table>"
   ]
  },
  {
   "cell_type": "code",
   "execution_count": 29,
   "id": "ab4454fe",
   "metadata": {
    "execution": {
     "iopub.execute_input": "2024-11-12T06:50:42.298010Z",
     "iopub.status.busy": "2024-11-12T06:50:42.297247Z",
     "iopub.status.idle": "2024-11-12T06:50:45.517229Z",
     "shell.execute_reply": "2024-11-12T06:50:45.516220Z"
    },
    "id": "7_jPMMoxkIEb",
    "papermill": {
     "duration": 3.239153,
     "end_time": "2024-11-12T06:50:45.519555",
     "exception": false,
     "start_time": "2024-11-12T06:50:42.280402",
     "status": "completed"
    },
    "tags": []
   },
   "outputs": [
    {
     "data": {
      "text/markdown": [
       "This file is a Bash/Zsh script for customizing your command prompt to display information about the current Git repository. \n",
       "\n",
       "Here's a breakdown of its purpose and why you'd use it:\n",
       "\n",
       "**What it does:**\n",
       "\n",
       "* **Git Status:** It fetches information about the current Git repository, including the branch name, upstream status (ahead/behind), staged changes, unstaged changes, conflicts, stashes, and whether the repository is clean.\n",
       "* **Customizable Prompt:** It allows you to customize the appearance of the Git prompt with various colors, symbols, and formatting. It includes a `git-prompt-colors.sh` file for managing color schemes.\n",
       "* **Virtual Environment:** It displays the name of the current virtual environment (if any) in the prompt.\n",
       "* **Remote Status:** It periodically fetches remote changes to keep the upstream status information up-to-date.\n",
       "* **Window Title:** It can set the window title to display the current branch or other Git information.\n",
       "* **User-Friendly:** It offers a `git-prompt-help.sh` script for providing help and documentation.\n",
       "\n",
       "**Why you'd use it:**\n",
       "\n",
       "* **Enhanced Git Awareness:**  The script provides a visual indication of your Git status within your terminal prompt, making it easier to track changes, branches, and upstream differences.\n",
       "* **Development Efficiency:** By providing a clear and informative prompt, you can quickly understand the state of your project and navigate through branches and commits.\n",
       "* **Customization:** You can tailor the prompt to your preferences, choosing colors, symbols, and the information you want displayed.\n",
       "* **Improved Workflow:**  The integration of virtual environment information and other features can help streamline your development workflow.\n",
       "\n",
       "**How to use it:**\n",
       "\n",
       "1. **Save the script:** Save the code as a `.sh` file (e.g., `git-prompt.sh`).\n",
       "2. **Place the script:**  Place the script in your `$HOME` directory or in a directory within your PATH.\n",
       "3. **Source the script:** Add the following line to your `.bashrc` or `.zshrc` file:\n",
       "   ```bash\n",
       "   source $HOME/git-prompt.sh\n",
       "   ```\n",
       "4. **Install the script:**  After sourcing the script, run the following command:\n",
       "   ```bash\n",
       "   gp_install_prompt\n",
       "   ```\n",
       "5. **Customize:**  Explore the variables and configuration options within the script to personalize the prompt's appearance and behavior.\n",
       "\n",
       "This script can significantly improve your Git development experience by providing a more informative and customizable prompt within your terminal. \n"
      ],
      "text/plain": [
       "<IPython.core.display.Markdown object>"
      ]
     },
     "execution_count": 29,
     "metadata": {},
     "output_type": "execute_result"
    }
   ],
   "source": [
    "file_contents = !curl https://raw.githubusercontent.com/magicmonty/bash-git-prompt/refs/heads/master/gitprompt.sh\n",
    "\n",
    "explain_prompt = f\"\"\"\n",
    "Please explain what this file does at a very high level. What is it, and why would I use it?\n",
    "\n",
    "```\n",
    "{file_contents}\n",
    "```\n",
    "\"\"\"\n",
    "\n",
    "model = genai.GenerativeModel('gemini-1.5-flash-latest')\n",
    "\n",
    "response = model.generate_content(explain_prompt, request_options=retry_policy)\n",
    "Markdown(response.text)"
   ]
  },
  {
   "cell_type": "markdown",
   "id": "0629cb91",
   "metadata": {
    "id": "2a8266d97ce5",
    "papermill": {
     "duration": 0.015857,
     "end_time": "2024-11-12T06:50:45.551713",
     "exception": false,
     "start_time": "2024-11-12T06:50:45.535856",
     "status": "completed"
    },
    "tags": []
   },
   "source": [
    "## Learn more\n",
    "\n",
    "To learn more about prompting in depth:\n",
    "\n",
    "* Check out the whitepaper issued with today's content,\n",
    "* Try out the apps listed at the top of this notebook ([TextFX](https://textfx.withgoogle.com/), [SQL Talk](https://sql-talk-r5gdynozbq-uc.a.run.app/) and [NotebookLM](https://notebooklm.google/)),\n",
    "* Read the [Introduction to Prompting](https://ai.google.dev/gemini-api/docs/prompting-intro) from the Gemini API docs,\n",
    "* Explore the Gemini API's [prompt gallery](https://ai.google.dev/gemini-api/prompts) and try them out in AI Studio,\n",
    "* Check out the Gemini API cookbook for [inspirational examples](https://github.com/google-gemini/cookbook/blob/main/examples/) and [educational quickstarts](https://github.com/google-gemini/cookbook/blob/main/quickstarts/).\n",
    "\n",
    "And please share anything exciting you have tried in the Discord!"
   ]
  }
 ],
 "metadata": {
  "colab": {
   "name": "day-1-prompting.ipynb",
   "toc_visible": true
  },
  "kaggle": {
   "accelerator": "none",
   "dataSources": [],
   "dockerImageVersionId": 30786,
   "isGpuEnabled": false,
   "isInternetEnabled": true,
   "language": "python",
   "sourceType": "notebook"
  },
  "kernelspec": {
   "display_name": "Python 3",
   "language": "python",
   "name": "python3"
  },
  "language_info": {
   "codemirror_mode": {
    "name": "ipython",
    "version": 3
   },
   "file_extension": ".py",
   "mimetype": "text/x-python",
   "name": "python",
   "nbconvert_exporter": "python",
   "pygments_lexer": "ipython3",
   "version": "3.10.14"
  },
  "papermill": {
   "default_parameters": {},
   "duration": 103.004374,
   "end_time": "2024-11-12T06:50:46.088135",
   "environment_variables": {},
   "exception": null,
   "input_path": "__notebook__.ipynb",
   "output_path": "__notebook__.ipynb",
   "parameters": {},
   "start_time": "2024-11-12T06:49:03.083761",
   "version": "2.6.0"
  }
 },
 "nbformat": 4,
 "nbformat_minor": 5
}
